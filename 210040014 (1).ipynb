{
 "cells": [
  {
   "cell_type": "code",
   "execution_count": 9,
   "id": "86921a42",
   "metadata": {},
   "outputs": [],
   "source": [
    "import numpy as np\n",
    "import pandas as pd\n",
    "import matplotlib.pyplot as plt\n",
    "\n",
    "import torch\n",
    "import torch.nn as nn\n",
    "\n",
    "data = pd.read_csv('AMZN.csv')"
   ]
  },
  {
   "cell_type": "code",
   "execution_count": 10,
   "id": "50cc229b",
   "metadata": {},
   "outputs": [
    {
     "data": {
      "text/html": [
       "<div>\n",
       "<style scoped>\n",
       "    .dataframe tbody tr th:only-of-type {\n",
       "        vertical-align: middle;\n",
       "    }\n",
       "\n",
       "    .dataframe tbody tr th {\n",
       "        vertical-align: top;\n",
       "    }\n",
       "\n",
       "    .dataframe thead th {\n",
       "        text-align: right;\n",
       "    }\n",
       "</style>\n",
       "<table border=\"1\" class=\"dataframe\">\n",
       "  <thead>\n",
       "    <tr style=\"text-align: right;\">\n",
       "      <th></th>\n",
       "      <th>Date</th>\n",
       "      <th>Open</th>\n",
       "      <th>High</th>\n",
       "      <th>Low</th>\n",
       "      <th>Close</th>\n",
       "      <th>Adj Close</th>\n",
       "      <th>Volume</th>\n",
       "    </tr>\n",
       "  </thead>\n",
       "  <tbody>\n",
       "    <tr>\n",
       "      <th>0</th>\n",
       "      <td>2019-01-02</td>\n",
       "      <td>73.260002</td>\n",
       "      <td>77.667999</td>\n",
       "      <td>73.046501</td>\n",
       "      <td>76.956497</td>\n",
       "      <td>76.956497</td>\n",
       "      <td>159662000</td>\n",
       "    </tr>\n",
       "    <tr>\n",
       "      <th>1</th>\n",
       "      <td>2019-01-03</td>\n",
       "      <td>76.000504</td>\n",
       "      <td>76.900002</td>\n",
       "      <td>74.855499</td>\n",
       "      <td>75.014000</td>\n",
       "      <td>75.014000</td>\n",
       "      <td>139512000</td>\n",
       "    </tr>\n",
       "    <tr>\n",
       "      <th>2</th>\n",
       "      <td>2019-01-04</td>\n",
       "      <td>76.500000</td>\n",
       "      <td>79.699997</td>\n",
       "      <td>75.915497</td>\n",
       "      <td>78.769501</td>\n",
       "      <td>78.769501</td>\n",
       "      <td>183652000</td>\n",
       "    </tr>\n",
       "    <tr>\n",
       "      <th>3</th>\n",
       "      <td>2019-01-07</td>\n",
       "      <td>80.115501</td>\n",
       "      <td>81.727997</td>\n",
       "      <td>79.459503</td>\n",
       "      <td>81.475502</td>\n",
       "      <td>81.475502</td>\n",
       "      <td>159864000</td>\n",
       "    </tr>\n",
       "    <tr>\n",
       "      <th>4</th>\n",
       "      <td>2019-01-08</td>\n",
       "      <td>83.234497</td>\n",
       "      <td>83.830498</td>\n",
       "      <td>80.830498</td>\n",
       "      <td>82.829002</td>\n",
       "      <td>82.829002</td>\n",
       "      <td>177628000</td>\n",
       "    </tr>\n",
       "    <tr>\n",
       "      <th>...</th>\n",
       "      <td>...</td>\n",
       "      <td>...</td>\n",
       "      <td>...</td>\n",
       "      <td>...</td>\n",
       "      <td>...</td>\n",
       "      <td>...</td>\n",
       "      <td>...</td>\n",
       "    </tr>\n",
       "    <tr>\n",
       "      <th>1262</th>\n",
       "      <td>2024-01-08</td>\n",
       "      <td>146.740005</td>\n",
       "      <td>149.399994</td>\n",
       "      <td>146.149994</td>\n",
       "      <td>149.100006</td>\n",
       "      <td>149.100006</td>\n",
       "      <td>46757100</td>\n",
       "    </tr>\n",
       "    <tr>\n",
       "      <th>1263</th>\n",
       "      <td>2024-01-09</td>\n",
       "      <td>148.330002</td>\n",
       "      <td>151.710007</td>\n",
       "      <td>148.210007</td>\n",
       "      <td>151.369995</td>\n",
       "      <td>151.369995</td>\n",
       "      <td>43812600</td>\n",
       "    </tr>\n",
       "    <tr>\n",
       "      <th>1264</th>\n",
       "      <td>2024-01-10</td>\n",
       "      <td>152.059998</td>\n",
       "      <td>154.419998</td>\n",
       "      <td>151.880005</td>\n",
       "      <td>153.729996</td>\n",
       "      <td>153.729996</td>\n",
       "      <td>44421800</td>\n",
       "    </tr>\n",
       "    <tr>\n",
       "      <th>1265</th>\n",
       "      <td>2024-01-11</td>\n",
       "      <td>155.039993</td>\n",
       "      <td>157.169998</td>\n",
       "      <td>153.119995</td>\n",
       "      <td>155.179993</td>\n",
       "      <td>155.179993</td>\n",
       "      <td>49072700</td>\n",
       "    </tr>\n",
       "    <tr>\n",
       "      <th>1266</th>\n",
       "      <td>2024-01-12</td>\n",
       "      <td>155.389999</td>\n",
       "      <td>156.199997</td>\n",
       "      <td>154.009995</td>\n",
       "      <td>154.619995</td>\n",
       "      <td>154.619995</td>\n",
       "      <td>40460300</td>\n",
       "    </tr>\n",
       "  </tbody>\n",
       "</table>\n",
       "<p>1267 rows × 7 columns</p>\n",
       "</div>"
      ],
      "text/plain": [
       "            Date        Open        High         Low       Close   Adj Close  \\\n",
       "0     2019-01-02   73.260002   77.667999   73.046501   76.956497   76.956497   \n",
       "1     2019-01-03   76.000504   76.900002   74.855499   75.014000   75.014000   \n",
       "2     2019-01-04   76.500000   79.699997   75.915497   78.769501   78.769501   \n",
       "3     2019-01-07   80.115501   81.727997   79.459503   81.475502   81.475502   \n",
       "4     2019-01-08   83.234497   83.830498   80.830498   82.829002   82.829002   \n",
       "...          ...         ...         ...         ...         ...         ...   \n",
       "1262  2024-01-08  146.740005  149.399994  146.149994  149.100006  149.100006   \n",
       "1263  2024-01-09  148.330002  151.710007  148.210007  151.369995  151.369995   \n",
       "1264  2024-01-10  152.059998  154.419998  151.880005  153.729996  153.729996   \n",
       "1265  2024-01-11  155.039993  157.169998  153.119995  155.179993  155.179993   \n",
       "1266  2024-01-12  155.389999  156.199997  154.009995  154.619995  154.619995   \n",
       "\n",
       "         Volume  \n",
       "0     159662000  \n",
       "1     139512000  \n",
       "2     183652000  \n",
       "3     159864000  \n",
       "4     177628000  \n",
       "...         ...  \n",
       "1262   46757100  \n",
       "1263   43812600  \n",
       "1264   44421800  \n",
       "1265   49072700  \n",
       "1266   40460300  \n",
       "\n",
       "[1267 rows x 7 columns]"
      ]
     },
     "execution_count": 10,
     "metadata": {},
     "output_type": "execute_result"
    }
   ],
   "source": [
    "data"
   ]
  },
  {
   "cell_type": "code",
   "execution_count": 11,
   "id": "baf6b5f0",
   "metadata": {},
   "outputs": [
    {
     "data": {
      "text/html": [
       "<div>\n",
       "<style scoped>\n",
       "    .dataframe tbody tr th:only-of-type {\n",
       "        vertical-align: middle;\n",
       "    }\n",
       "\n",
       "    .dataframe tbody tr th {\n",
       "        vertical-align: top;\n",
       "    }\n",
       "\n",
       "    .dataframe thead th {\n",
       "        text-align: right;\n",
       "    }\n",
       "</style>\n",
       "<table border=\"1\" class=\"dataframe\">\n",
       "  <thead>\n",
       "    <tr style=\"text-align: right;\">\n",
       "      <th></th>\n",
       "      <th>Date</th>\n",
       "      <th>Close</th>\n",
       "    </tr>\n",
       "  </thead>\n",
       "  <tbody>\n",
       "    <tr>\n",
       "      <th>0</th>\n",
       "      <td>2019-01-02</td>\n",
       "      <td>76.956497</td>\n",
       "    </tr>\n",
       "    <tr>\n",
       "      <th>1</th>\n",
       "      <td>2019-01-03</td>\n",
       "      <td>75.014000</td>\n",
       "    </tr>\n",
       "    <tr>\n",
       "      <th>2</th>\n",
       "      <td>2019-01-04</td>\n",
       "      <td>78.769501</td>\n",
       "    </tr>\n",
       "    <tr>\n",
       "      <th>3</th>\n",
       "      <td>2019-01-07</td>\n",
       "      <td>81.475502</td>\n",
       "    </tr>\n",
       "    <tr>\n",
       "      <th>4</th>\n",
       "      <td>2019-01-08</td>\n",
       "      <td>82.829002</td>\n",
       "    </tr>\n",
       "    <tr>\n",
       "      <th>...</th>\n",
       "      <td>...</td>\n",
       "      <td>...</td>\n",
       "    </tr>\n",
       "    <tr>\n",
       "      <th>1262</th>\n",
       "      <td>2024-01-08</td>\n",
       "      <td>149.100006</td>\n",
       "    </tr>\n",
       "    <tr>\n",
       "      <th>1263</th>\n",
       "      <td>2024-01-09</td>\n",
       "      <td>151.369995</td>\n",
       "    </tr>\n",
       "    <tr>\n",
       "      <th>1264</th>\n",
       "      <td>2024-01-10</td>\n",
       "      <td>153.729996</td>\n",
       "    </tr>\n",
       "    <tr>\n",
       "      <th>1265</th>\n",
       "      <td>2024-01-11</td>\n",
       "      <td>155.179993</td>\n",
       "    </tr>\n",
       "    <tr>\n",
       "      <th>1266</th>\n",
       "      <td>2024-01-12</td>\n",
       "      <td>154.619995</td>\n",
       "    </tr>\n",
       "  </tbody>\n",
       "</table>\n",
       "<p>1267 rows × 2 columns</p>\n",
       "</div>"
      ],
      "text/plain": [
       "            Date       Close\n",
       "0     2019-01-02   76.956497\n",
       "1     2019-01-03   75.014000\n",
       "2     2019-01-04   78.769501\n",
       "3     2019-01-07   81.475502\n",
       "4     2019-01-08   82.829002\n",
       "...          ...         ...\n",
       "1262  2024-01-08  149.100006\n",
       "1263  2024-01-09  151.369995\n",
       "1264  2024-01-10  153.729996\n",
       "1265  2024-01-11  155.179993\n",
       "1266  2024-01-12  154.619995\n",
       "\n",
       "[1267 rows x 2 columns]"
      ]
     },
     "execution_count": 11,
     "metadata": {},
     "output_type": "execute_result"
    }
   ],
   "source": [
    "data= data[['Date', 'Close']]\n",
    "data"
   ]
  },
  {
   "cell_type": "code",
   "execution_count": 12,
   "id": "3fb43b85",
   "metadata": {},
   "outputs": [
    {
     "data": {
      "text/plain": [
       "device(type='cpu')"
      ]
     },
     "execution_count": 12,
     "metadata": {},
     "output_type": "execute_result"
    }
   ],
   "source": [
    "## device configuration\n",
    "device=torch.device('cuda' if torch.cuda.is_available() else 'cpu')\n",
    "device"
   ]
  },
  {
   "cell_type": "code",
   "execution_count": 13,
   "id": "d16a0f43",
   "metadata": {},
   "outputs": [
    {
     "name": "stderr",
     "output_type": "stream",
     "text": [
      "C:\\Users\\Lenovo\\AppData\\Local\\Temp\\ipykernel_5056\\954498261.py:1: SettingWithCopyWarning: \n",
      "A value is trying to be set on a copy of a slice from a DataFrame.\n",
      "Try using .loc[row_indexer,col_indexer] = value instead\n",
      "\n",
      "See the caveats in the documentation: https://pandas.pydata.org/pandas-docs/stable/user_guide/indexing.html#returning-a-view-versus-a-copy\n",
      "  data['Date']= pd.to_datetime(data['Date'])\n"
     ]
    },
    {
     "data": {
      "text/plain": [
       "[<matplotlib.lines.Line2D at 0x1c8ab96d270>]"
      ]
     },
     "execution_count": 13,
     "metadata": {},
     "output_type": "execute_result"
    },
    {
     "data": {
      "image/png": "[encoded data removed]",
      "text/plain": [
       "<Figure size 640x480 with 1 Axes>"
      ]
     },
     "metadata": {},
     "output_type": "display_data"
    }
   ],
   "source": [
    "data['Date']= pd.to_datetime(data['Date'])\n",
    "plt.plot(data['Date'] , data['Close'])"
   ]
  },
  {
   "cell_type": "code",
   "execution_count": 14,
   "id": "629f76a6",
   "metadata": {},
   "outputs": [
    {
     "data": {
      "text/html": [
       "<div>\n",
       "<style scoped>\n",
       "    .dataframe tbody tr th:only-of-type {\n",
       "        vertical-align: middle;\n",
       "    }\n",
       "\n",
       "    .dataframe tbody tr th {\n",
       "        vertical-align: top;\n",
       "    }\n",
       "\n",
       "    .dataframe thead th {\n",
       "        text-align: right;\n",
       "    }\n",
       "</style>\n",
       "<table border=\"1\" class=\"dataframe\">\n",
       "  <thead>\n",
       "    <tr style=\"text-align: right;\">\n",
       "      <th></th>\n",
       "      <th>Close</th>\n",
       "      <th>Close(t-1)</th>\n",
       "      <th>Close(t-2)</th>\n",
       "      <th>Close(t-3)</th>\n",
       "      <th>Close(t-4)</th>\n",
       "      <th>Close(t-5)</th>\n",
       "      <th>Close(t-6)</th>\n",
       "      <th>Close(t-7)</th>\n",
       "    </tr>\n",
       "    <tr>\n",
       "      <th>Date</th>\n",
       "      <th></th>\n",
       "      <th></th>\n",
       "      <th></th>\n",
       "      <th></th>\n",
       "      <th></th>\n",
       "      <th></th>\n",
       "      <th></th>\n",
       "      <th></th>\n",
       "    </tr>\n",
       "  </thead>\n",
       "  <tbody>\n",
       "    <tr>\n",
       "      <th>2019-01-11</th>\n",
       "      <td>82.028000</td>\n",
       "      <td>82.810997</td>\n",
       "      <td>82.971001</td>\n",
       "      <td>82.829002</td>\n",
       "      <td>81.475502</td>\n",
       "      <td>78.769501</td>\n",
       "      <td>75.014000</td>\n",
       "      <td>76.956497</td>\n",
       "    </tr>\n",
       "    <tr>\n",
       "      <th>2019-01-14</th>\n",
       "      <td>80.860497</td>\n",
       "      <td>82.028000</td>\n",
       "      <td>82.810997</td>\n",
       "      <td>82.971001</td>\n",
       "      <td>82.829002</td>\n",
       "      <td>81.475502</td>\n",
       "      <td>78.769501</td>\n",
       "      <td>75.014000</td>\n",
       "    </tr>\n",
       "    <tr>\n",
       "      <th>2019-01-15</th>\n",
       "      <td>83.727997</td>\n",
       "      <td>80.860497</td>\n",
       "      <td>82.028000</td>\n",
       "      <td>82.810997</td>\n",
       "      <td>82.971001</td>\n",
       "      <td>82.829002</td>\n",
       "      <td>81.475502</td>\n",
       "      <td>78.769501</td>\n",
       "    </tr>\n",
       "    <tr>\n",
       "      <th>2019-01-16</th>\n",
       "      <td>84.189003</td>\n",
       "      <td>83.727997</td>\n",
       "      <td>80.860497</td>\n",
       "      <td>82.028000</td>\n",
       "      <td>82.810997</td>\n",
       "      <td>82.971001</td>\n",
       "      <td>82.829002</td>\n",
       "      <td>81.475502</td>\n",
       "    </tr>\n",
       "    <tr>\n",
       "      <th>2019-01-17</th>\n",
       "      <td>84.661003</td>\n",
       "      <td>84.189003</td>\n",
       "      <td>83.727997</td>\n",
       "      <td>80.860497</td>\n",
       "      <td>82.028000</td>\n",
       "      <td>82.810997</td>\n",
       "      <td>82.971001</td>\n",
       "      <td>82.829002</td>\n",
       "    </tr>\n",
       "    <tr>\n",
       "      <th>...</th>\n",
       "      <td>...</td>\n",
       "      <td>...</td>\n",
       "      <td>...</td>\n",
       "      <td>...</td>\n",
       "      <td>...</td>\n",
       "      <td>...</td>\n",
       "      <td>...</td>\n",
       "      <td>...</td>\n",
       "    </tr>\n",
       "    <tr>\n",
       "      <th>2024-01-08</th>\n",
       "      <td>149.100006</td>\n",
       "      <td>145.240005</td>\n",
       "      <td>144.570007</td>\n",
       "      <td>148.470001</td>\n",
       "      <td>149.929993</td>\n",
       "      <td>151.940002</td>\n",
       "      <td>153.380005</td>\n",
       "      <td>153.339996</td>\n",
       "    </tr>\n",
       "    <tr>\n",
       "      <th>2024-01-09</th>\n",
       "      <td>151.369995</td>\n",
       "      <td>149.100006</td>\n",
       "      <td>145.240005</td>\n",
       "      <td>144.570007</td>\n",
       "      <td>148.470001</td>\n",
       "      <td>149.929993</td>\n",
       "      <td>151.940002</td>\n",
       "      <td>153.380005</td>\n",
       "    </tr>\n",
       "    <tr>\n",
       "      <th>2024-01-10</th>\n",
       "      <td>153.729996</td>\n",
       "      <td>151.369995</td>\n",
       "      <td>149.100006</td>\n",
       "      <td>145.240005</td>\n",
       "      <td>144.570007</td>\n",
       "      <td>148.470001</td>\n",
       "      <td>149.929993</td>\n",
       "      <td>151.940002</td>\n",
       "    </tr>\n",
       "    <tr>\n",
       "      <th>2024-01-11</th>\n",
       "      <td>155.179993</td>\n",
       "      <td>153.729996</td>\n",
       "      <td>151.369995</td>\n",
       "      <td>149.100006</td>\n",
       "      <td>145.240005</td>\n",
       "      <td>144.570007</td>\n",
       "      <td>148.470001</td>\n",
       "      <td>149.929993</td>\n",
       "    </tr>\n",
       "    <tr>\n",
       "      <th>2024-01-12</th>\n",
       "      <td>154.619995</td>\n",
       "      <td>155.179993</td>\n",
       "      <td>153.729996</td>\n",
       "      <td>151.369995</td>\n",
       "      <td>149.100006</td>\n",
       "      <td>145.240005</td>\n",
       "      <td>144.570007</td>\n",
       "      <td>148.470001</td>\n",
       "    </tr>\n",
       "  </tbody>\n",
       "</table>\n",
       "<p>1260 rows × 8 columns</p>\n",
       "</div>"
      ],
      "text/plain": [
       "                 Close  Close(t-1)  Close(t-2)  Close(t-3)  Close(t-4)  \\\n",
       "Date                                                                     \n",
       "2019-01-11   82.028000   82.810997   82.971001   82.829002   81.475502   \n",
       "2019-01-14   80.860497   82.028000   82.810997   82.971001   82.829002   \n",
       "2019-01-15   83.727997   80.860497   82.028000   82.810997   82.971001   \n",
       "2019-01-16   84.189003   83.727997   80.860497   82.028000   82.810997   \n",
       "2019-01-17   84.661003   84.189003   83.727997   80.860497   82.028000   \n",
       "...                ...         ...         ...         ...         ...   \n",
       "2024-01-08  149.100006  145.240005  144.570007  148.470001  149.929993   \n",
       "2024-01-09  151.369995  149.100006  145.240005  144.570007  148.470001   \n",
       "2024-01-10  153.729996  151.369995  149.100006  145.240005  144.570007   \n",
       "2024-01-11  155.179993  153.729996  151.369995  149.100006  145.240005   \n",
       "2024-01-12  154.619995  155.179993  153.729996  151.369995  149.100006   \n",
       "\n",
       "            Close(t-5)  Close(t-6)  Close(t-7)  \n",
       "Date                                            \n",
       "2019-01-11   78.769501   75.014000   76.956497  \n",
       "2019-01-14   81.475502   78.769501   75.014000  \n",
       "2019-01-15   82.829002   81.475502   78.769501  \n",
       "2019-01-16   82.971001   82.829002   81.475502  \n",
       "2019-01-17   82.810997   82.971001   82.829002  \n",
       "...                ...         ...         ...  \n",
       "2024-01-08  151.940002  153.380005  153.339996  \n",
       "2024-01-09  149.929993  151.940002  153.380005  \n",
       "2024-01-10  148.470001  149.929993  151.940002  \n",
       "2024-01-11  144.570007  148.470001  149.929993  \n",
       "2024-01-12  145.240005  144.570007  148.470001  \n",
       "\n",
       "[1260 rows x 8 columns]"
      ]
     },
     "execution_count": 14,
     "metadata": {},
     "output_type": "execute_result"
    }
   ],
   "source": [
    "from copy import deepcopy as dc\n",
    "\n",
    "def prepare_dataframe_for_lstm(df, n_steps):\n",
    "    df = dc(df)\n",
    "    \n",
    "    df.set_index('Date', inplace=True)\n",
    "    \n",
    "    for i in range(1, n_steps+1):\n",
    "        df[f'Close(t-{i})'] = df['Close'].shift(i)\n",
    "        \n",
    "    df.dropna(inplace=True)\n",
    "    \n",
    "    return df\n",
    "\n",
    "lookback = 7\n",
    "shifted_df = prepare_dataframe_for_lstm(data, lookback)\n",
    "shifted_df"
   ]
  },
  {
   "cell_type": "code",
   "execution_count": 15,
   "id": "344b1f78",
   "metadata": {},
   "outputs": [
    {
     "data": {
      "text/plain": [
       "array([[ 82.028   ,  82.810997,  82.971001, ...,  78.769501,  75.014   ,\n",
       "         76.956497],\n",
       "       [ 80.860497,  82.028   ,  82.810997, ...,  81.475502,  78.769501,\n",
       "         75.014   ],\n",
       "       [ 83.727997,  80.860497,  82.028   , ...,  82.829002,  81.475502,\n",
       "         78.769501],\n",
       "       ...,\n",
       "       [153.729996, 151.369995, 149.100006, ..., 148.470001, 149.929993,\n",
       "        151.940002],\n",
       "       [155.179993, 153.729996, 151.369995, ..., 144.570007, 148.470001,\n",
       "        149.929993],\n",
       "       [154.619995, 155.179993, 153.729996, ..., 145.240005, 144.570007,\n",
       "        148.470001]])"
      ]
     },
     "execution_count": 15,
     "metadata": {},
     "output_type": "execute_result"
    }
   ],
   "source": [
    "shifted_df_as_np = shifted_df.to_numpy()\n",
    "\n",
    "shifted_df_as_np"
   ]
  },
  {
   "cell_type": "code",
   "execution_count": 16,
   "id": "fb05b2bf",
   "metadata": {},
   "outputs": [
    {
     "data": {
      "text/plain": [
       "array([[-0.95115697, -0.9365433 , -0.93355702, ..., -1.        ,\n",
       "        -1.        , -0.96517465],\n",
       "       [-0.97294698, -0.95115697, -0.9365433 , ..., -0.94979636,\n",
       "        -0.93267087, -1.        ],\n",
       "       [-0.91942862, -0.97294698, -0.95115697, ..., -0.92468528,\n",
       "        -0.88415732, -0.93267087],\n",
       "       ...,\n",
       "       [ 0.3870725 ,  0.34302599,  0.30065944, ...,  0.29313278,\n",
       "         0.34310409,  0.3791398 ],\n",
       "       [ 0.41413491,  0.3870725 ,  0.34302599, ...,  0.22077734,\n",
       "         0.31692915,  0.34310409],\n",
       "       [ 0.40368324,  0.41413491,  0.3870725 , ...,  0.23320762,\n",
       "         0.24700953,  0.31692915]])"
      ]
     },
     "execution_count": 16,
     "metadata": {},
     "output_type": "execute_result"
    }
   ],
   "source": [
    "from sklearn.preprocessing import MinMaxScaler\n",
    "\n",
    "scaler = MinMaxScaler(feature_range=(-1, 1))\n",
    "shifted_df_as_np = scaler.fit_transform(shifted_df_as_np)\n",
    "\n",
    "shifted_df_as_np"
   ]
  },
  {
   "cell_type": "code",
   "execution_count": 17,
   "id": "19cfd8e6",
   "metadata": {},
   "outputs": [
    {
     "data": {
      "text/plain": [
       "((1260, 7), (1260,))"
      ]
     },
     "execution_count": 17,
     "metadata": {},
     "output_type": "execute_result"
    }
   ],
   "source": [
    "X = shifted_df_as_np[:, 1:]\n",
    "y = shifted_df_as_np[:, 0]\n",
    "\n",
    "X.shape, y.shape"
   ]
  },
  {
   "cell_type": "code",
   "execution_count": 18,
   "id": "6737bb4e",
   "metadata": {},
   "outputs": [
    {
     "data": {
      "text/plain": [
       "array([[-0.96517465, -1.        , -1.        , ..., -0.93620726,\n",
       "        -0.93355702, -0.9365433 ],\n",
       "       [-1.        , -0.93267087, -0.94979636, ..., -0.93355702,\n",
       "        -0.9365433 , -0.95115697],\n",
       "       [-0.93267087, -0.88415732, -0.92468528, ..., -0.9365433 ,\n",
       "        -0.95115697, -0.97294698],\n",
       "       ...,\n",
       "       [ 0.3791398 ,  0.34310409,  0.29313278, ...,  0.22861727,\n",
       "         0.30065944,  0.34302599],\n",
       "       [ 0.34310409,  0.31692915,  0.22077734, ...,  0.30065944,\n",
       "         0.34302599,  0.3870725 ],\n",
       "       [ 0.31692915,  0.24700953,  0.23320762, ...,  0.34302599,\n",
       "         0.3870725 ,  0.41413491]])"
      ]
     },
     "execution_count": 18,
     "metadata": {},
     "output_type": "execute_result"
    }
   ],
   "source": [
    "X = dc(np.flip(X, axis=1))\n",
    "X"
   ]
  },
  {
   "cell_type": "code",
   "execution_count": 19,
   "id": "5d5889f6",
   "metadata": {},
   "outputs": [
    {
     "data": {
      "text/plain": [
       "1197"
      ]
     },
     "execution_count": 19,
     "metadata": {},
     "output_type": "execute_result"
    }
   ],
   "source": [
    "split_index = int(len(X) * 0.95)\n",
    "\n",
    "split_index"
   ]
  },
  {
   "cell_type": "code",
   "execution_count": 20,
   "id": "53a949de",
   "metadata": {},
   "outputs": [
    {
     "data": {
      "text/plain": [
       "((1197, 7), (63, 7), (1197,), (63,))"
      ]
     },
     "execution_count": 20,
     "metadata": {},
     "output_type": "execute_result"
    }
   ],
   "source": [
    "X_train = X[:split_index]\n",
    "X_test = X[split_index:]\n",
    "\n",
    "y_train = y[:split_index]\n",
    "y_test = y[split_index:]\n",
    "\n",
    "X_train.shape, X_test.shape, y_train.shape, y_test.shape"
   ]
  },
  {
   "cell_type": "code",
   "execution_count": 21,
   "id": "47b71d9b",
   "metadata": {},
   "outputs": [
    {
     "data": {
      "text/plain": [
       "((1197, 7, 1), (63, 7, 1), (1197, 1), (63, 1))"
      ]
     },
     "execution_count": 21,
     "metadata": {},
     "output_type": "execute_result"
    }
   ],
   "source": [
    "X_train = X_train.reshape((-1, lookback, 1))\n",
    "X_test = X_test.reshape((-1, lookback, 1))\n",
    "\n",
    "y_train = y_train.reshape((-1, 1))\n",
    "y_test = y_test.reshape((-1, 1))\n",
    "\n",
    "X_train.shape, X_test.shape, y_train.shape, y_test.shape"
   ]
  },
  {
   "cell_type": "code",
   "execution_count": 22,
   "id": "3cda69e9",
   "metadata": {},
   "outputs": [
    {
     "data": {
      "text/plain": [
       "(torch.Size([1197, 7, 1]),\n",
       " torch.Size([63, 7, 1]),\n",
       " torch.Size([1197, 1]),\n",
       " torch.Size([63, 1]))"
      ]
     },
     "execution_count": 22,
     "metadata": {},
     "output_type": "execute_result"
    }
   ],
   "source": [
    "X_train = torch.tensor(X_train).float()\n",
    "y_train = torch.tensor(y_train).float()\n",
    "X_test = torch.tensor(X_test).float()\n",
    "y_test = torch.tensor(y_test).float()\n",
    "\n",
    "X_train.shape, X_test.shape, y_train.shape, y_test.shape"
   ]
  },
  {
   "cell_type": "code",
   "execution_count": 23,
   "id": "d32e77da",
   "metadata": {},
   "outputs": [],
   "source": [
    "from torch.utils.data import Dataset\n",
    "\n",
    "class TimeSeriesDataset(Dataset):\n",
    "    def __init__(self, X, y):\n",
    "        self.X = X\n",
    "        self.y = y\n",
    "\n",
    "    def __len__(self):\n",
    "        return len(self.X)\n",
    "\n",
    "    def __getitem__(self, i):\n",
    "        return self.X[i], self.y[i]\n",
    "    \n",
    "train_dataset = TimeSeriesDataset(X_train, y_train)\n",
    "test_dataset = TimeSeriesDataset(X_test, y_test)"
   ]
  },
  {
   "cell_type": "code",
   "execution_count": 24,
   "id": "fc8b8d01",
   "metadata": {},
   "outputs": [
    {
     "data": {
      "text/plain": [
       "<__main__.TimeSeriesDataset at 0x1c8bbc97a60>"
      ]
     },
     "execution_count": 24,
     "metadata": {},
     "output_type": "execute_result"
    }
   ],
   "source": [
    "train_dataset"
   ]
  },
  {
   "cell_type": "code",
   "execution_count": 25,
   "id": "8469aee1",
   "metadata": {},
   "outputs": [],
   "source": [
    "from torch.utils.data import DataLoader\n",
    "\n",
    "batch_size = 16\n",
    "\n",
    "train_loader = DataLoader(train_dataset, batch_size=batch_size, shuffle=True)\n",
    "test_loader = DataLoader(test_dataset, batch_size=batch_size, shuffle=False)"
   ]
  },
  {
   "cell_type": "code",
   "execution_count": 26,
   "id": "277fad90",
   "metadata": {},
   "outputs": [
    {
     "name": "stdout",
     "output_type": "stream",
     "text": [
      "torch.Size([16, 7, 1]) torch.Size([16, 1])\n"
     ]
    }
   ],
   "source": [
    "for _, batch in enumerate(train_loader):\n",
    "    x_batch, y_batch = batch[0].to(device), batch[1].to(device)\n",
    "    print(x_batch.shape, y_batch.shape)\n",
    "    break"
   ]
  },
  {
   "cell_type": "code",
   "execution_count": 27,
   "id": "5ee31237",
   "metadata": {},
   "outputs": [
    {
     "data": {
      "text/plain": [
       "LSTM(\n",
       "  (lstm): LSTM(1, 4, batch_first=True)\n",
       "  (fc): Linear(in_features=4, out_features=1, bias=True)\n",
       ")"
      ]
     },
     "execution_count": 27,
     "metadata": {},
     "output_type": "execute_result"
    }
   ],
   "source": [
    "class LSTM(nn.Module):\n",
    "    def __init__(self, input_size, hidden_size, num_stacked_layers):\n",
    "        super().__init__()\n",
    "        self.hidden_size = hidden_size\n",
    "        self.num_stacked_layers = num_stacked_layers\n",
    "\n",
    "        self.lstm = nn.LSTM(input_size, hidden_size, num_stacked_layers, \n",
    "                            batch_first=True)\n",
    "        \n",
    "        self.fc = nn.Linear(hidden_size, 1)\n",
    "\n",
    "    def forward(self, x):\n",
    "        batch_size = x.size(0)\n",
    "        h0 = torch.zeros(self.num_stacked_layers, batch_size, self.hidden_size).to(device)\n",
    "        c0 = torch.zeros(self.num_stacked_layers, batch_size, self.hidden_size).to(device)\n",
    "        \n",
    "        out, _ = self.lstm(x, (h0, c0))\n",
    "        out = self.fc(out[:, -1, :])\n",
    "        return out\n",
    "\n",
    "model = LSTM(1, 4, 1)\n",
    "model.to(device)\n",
    "model"
   ]
  },
  {
   "cell_type": "code",
   "execution_count": 28,
   "id": "8d1ae60f",
   "metadata": {},
   "outputs": [],
   "source": [
    "def train_one_epoch():\n",
    "    model.train(True)\n",
    "    print(f'Epoch: {epoch + 1}')\n",
    "    running_loss = 0.0\n",
    "    \n",
    "    for batch_index, batch in enumerate(train_loader):\n",
    "        x_batch, y_batch = batch[0].to(device), batch[1].to(device)\n",
    "        \n",
    "        output = model(x_batch)\n",
    "        loss = loss_function(output, y_batch)\n",
    "        running_loss += loss.item()\n",
    "        \n",
    "        optimizer.zero_grad()\n",
    "        loss.backward()\n",
    "        optimizer.step()\n",
    "\n",
    "        if batch_index % 100 == 99:  # print every 100 batches\n",
    "            avg_loss_across_batches = running_loss / 100\n",
    "            print('Batch {0}, Loss: {1:.3f}'.format(batch_index+1,\n",
    "                                                    avg_loss_across_batches))\n",
    "            running_loss = 0.0\n",
    "    print()"
   ]
  },
  {
   "cell_type": "code",
   "execution_count": 29,
   "id": "cf0afd22",
   "metadata": {},
   "outputs": [],
   "source": [
    "def validate_one_epoch():\n",
    "    model.train(False)\n",
    "    running_loss = 0.0\n",
    "    \n",
    "    for batch_index, batch in enumerate(test_loader):\n",
    "        x_batch, y_batch = batch[0].to(device), batch[1].to(device)\n",
    "        \n",
    "        with torch.no_grad():\n",
    "            output = model(x_batch)\n",
    "            loss = loss_function(output, y_batch)\n",
    "            running_loss += loss.item()\n",
    "\n",
    "    avg_loss_across_batches = running_loss / len(test_loader)\n",
    "    \n",
    "    print('Val Loss: {0:.3f}'.format(avg_loss_across_batches))\n",
    "    print('***************************************************')\n",
    "    print()"
   ]
  },
  {
   "cell_type": "code",
   "execution_count": 46,
   "id": "51cbc4c0",
   "metadata": {},
   "outputs": [
    {
     "name": "stdout",
     "output_type": "stream",
     "text": [
      "Epoch: 1\n",
      "\n",
      "Val Loss: 0.002\n",
      "***************************************************\n",
      "\n",
      "Epoch: 2\n",
      "\n",
      "Val Loss: 0.002\n",
      "***************************************************\n",
      "\n",
      "Epoch: 3\n",
      "\n",
      "Val Loss: 0.002\n",
      "***************************************************\n",
      "\n",
      "Epoch: 4\n",
      "\n",
      "Val Loss: 0.002\n",
      "***************************************************\n",
      "\n",
      "Epoch: 5\n",
      "\n",
      "Val Loss: 0.002\n",
      "***************************************************\n",
      "\n",
      "Epoch: 6\n",
      "\n",
      "Val Loss: 0.002\n",
      "***************************************************\n",
      "\n",
      "Epoch: 7\n",
      "\n",
      "Val Loss: 0.002\n",
      "***************************************************\n",
      "\n",
      "Epoch: 8\n",
      "\n",
      "Val Loss: 0.002\n",
      "***************************************************\n",
      "\n",
      "Epoch: 9\n",
      "\n",
      "Val Loss: 0.002\n",
      "***************************************************\n",
      "\n",
      "Epoch: 10\n",
      "\n",
      "Val Loss: 0.002\n",
      "***************************************************\n",
      "\n",
      "Epoch: 11\n",
      "\n",
      "Val Loss: 0.002\n",
      "***************************************************\n",
      "\n",
      "Epoch: 12\n",
      "\n",
      "Val Loss: 0.002\n",
      "***************************************************\n",
      "\n",
      "Epoch: 13\n",
      "\n",
      "Val Loss: 0.002\n",
      "***************************************************\n",
      "\n",
      "Epoch: 14\n",
      "\n",
      "Val Loss: 0.002\n",
      "***************************************************\n",
      "\n",
      "Epoch: 15\n",
      "\n",
      "Val Loss: 0.002\n",
      "***************************************************\n",
      "\n",
      "Epoch: 16\n",
      "\n",
      "Val Loss: 0.002\n",
      "***************************************************\n",
      "\n",
      "Epoch: 17\n",
      "\n",
      "Val Loss: 0.002\n",
      "***************************************************\n",
      "\n",
      "Epoch: 18\n",
      "\n",
      "Val Loss: 0.002\n",
      "***************************************************\n",
      "\n",
      "Epoch: 19\n",
      "\n",
      "Val Loss: 0.002\n",
      "***************************************************\n",
      "\n",
      "Epoch: 20\n",
      "\n",
      "Val Loss: 0.002\n",
      "***************************************************\n",
      "\n",
      "Epoch: 21\n",
      "\n",
      "Val Loss: 0.002\n",
      "***************************************************\n",
      "\n",
      "Epoch: 22\n",
      "\n",
      "Val Loss: 0.002\n",
      "***************************************************\n",
      "\n",
      "Epoch: 23\n",
      "\n",
      "Val Loss: 0.002\n",
      "***************************************************\n",
      "\n",
      "Epoch: 24\n",
      "\n",
      "Val Loss: 0.002\n",
      "***************************************************\n",
      "\n",
      "Epoch: 25\n",
      "\n",
      "Val Loss: 0.002\n",
      "***************************************************\n",
      "\n",
      "Epoch: 26\n",
      "\n",
      "Val Loss: 0.002\n",
      "***************************************************\n",
      "\n",
      "Epoch: 27\n",
      "\n",
      "Val Loss: 0.002\n",
      "***************************************************\n",
      "\n",
      "Epoch: 28\n",
      "\n",
      "Val Loss: 0.002\n",
      "***************************************************\n",
      "\n",
      "Epoch: 29\n",
      "\n",
      "Val Loss: 0.002\n",
      "***************************************************\n",
      "\n",
      "Epoch: 30\n",
      "\n",
      "Val Loss: 0.002\n",
      "***************************************************\n",
      "\n",
      "Epoch: 31\n",
      "\n",
      "Val Loss: 0.002\n",
      "***************************************************\n",
      "\n",
      "Epoch: 32\n",
      "\n",
      "Val Loss: 0.002\n",
      "***************************************************\n",
      "\n",
      "Epoch: 33\n",
      "\n",
      "Val Loss: 0.002\n",
      "***************************************************\n",
      "\n",
      "Epoch: 34\n",
      "\n",
      "Val Loss: 0.002\n",
      "***************************************************\n",
      "\n",
      "Epoch: 35\n",
      "\n",
      "Val Loss: 0.002\n",
      "***************************************************\n",
      "\n",
      "Epoch: 36\n",
      "\n",
      "Val Loss: 0.002\n",
      "***************************************************\n",
      "\n",
      "Epoch: 37\n",
      "\n",
      "Val Loss: 0.002\n",
      "***************************************************\n",
      "\n",
      "Epoch: 38\n",
      "\n",
      "Val Loss: 0.002\n",
      "***************************************************\n",
      "\n",
      "Epoch: 39\n",
      "\n",
      "Val Loss: 0.002\n",
      "***************************************************\n",
      "\n",
      "Epoch: 40\n",
      "\n",
      "Val Loss: 0.002\n",
      "***************************************************\n",
      "\n"
     ]
    }
   ],
   "source": [
    "learning_rate = 0.001\n",
    "num_epochs = 40\n",
    "loss_function = nn.MSELoss()\n",
    "optimizer = torch.optim.Adam(model.parameters(), lr=learning_rate)\n",
    "\n",
    "for epoch in range(num_epochs):\n",
    "    train_one_epoch()\n",
    "    validate_one_epoch()"
   ]
  },
  {
   "cell_type": "code",
   "execution_count": 47,
   "id": "21ee1127",
   "metadata": {},
   "outputs": [
    {
     "data": {
      "image/png": "[encoded data removed]",
      "text/plain": [
       "<Figure size 640x480 with 1 Axes>"
      ]
     },
     "metadata": {},
     "output_type": "display_data"
    }
   ],
   "source": [
    "with torch.no_grad():\n",
    "    predicted = model(X_train.to(device)).to('cpu').numpy()\n",
    "\n",
    "plt.plot(y_train, label='Actual Close')\n",
    "plt.plot(predicted, label='Predicted Close')\n",
    "plt.xlabel('Day')\n",
    "plt.ylabel('Close')\n",
    "plt.legend()\n",
    "plt.show()"
   ]
  },
  {
   "cell_type": "code",
   "execution_count": 48,
   "id": "7aeb114d",
   "metadata": {},
   "outputs": [
    {
     "data": {
      "text/plain": [
       "array([ 83.56659745,  83.08807135,  82.15569932, ..., 128.97301286,\n",
       "       130.16042114, 132.46703674])"
      ]
     },
     "execution_count": 48,
     "metadata": {},
     "output_type": "execute_result"
    }
   ],
   "source": [
    "train_predictions = predicted.flatten()\n",
    "\n",
    "dummies = np.zeros((X_train.shape[0], lookback+1))\n",
    "dummies[:, 0] = train_predictions\n",
    "dummies = scaler.inverse_transform(dummies)\n",
    "\n",
    "train_predictions = dc(dummies[:, 0])\n",
    "train_predictions"
   ]
  },
  {
   "cell_type": "code",
   "execution_count": 49,
   "id": "6a35e301",
   "metadata": {},
   "outputs": [
    {
     "data": {
      "text/plain": [
       "array([ 82.02799996,  80.8604958 ,  83.72799569, ..., 129.47999594,\n",
       "       131.83000201, 132.33000198])"
      ]
     },
     "execution_count": 49,
     "metadata": {},
     "output_type": "execute_result"
    }
   ],
   "source": [
    "dummies = np.zeros((X_train.shape[0], lookback+1))\n",
    "dummies[:, 0] = y_train.flatten()\n",
    "dummies = scaler.inverse_transform(dummies)\n",
    "\n",
    "new_y_train = dc(dummies[:, 0])\n",
    "new_y_train"
   ]
  },
  {
   "cell_type": "code",
   "execution_count": 50,
   "id": "9f99f130",
   "metadata": {},
   "outputs": [
    {
     "data": {
      "image/png": "[encoded data removed]",
      "text/plain": [
       "<Figure size 640x480 with 1 Axes>"
      ]
     },
     "metadata": {},
     "output_type": "display_data"
    }
   ],
   "source": [
    "plt.plot(new_y_train, label='Actual Close')\n",
    "plt.plot(train_predictions, label='Predicted Close')\n",
    "plt.xlabel('Day')\n",
    "plt.ylabel('Close')\n",
    "plt.legend()\n",
    "plt.show()"
   ]
  },
  {
   "cell_type": "code",
   "execution_count": 51,
   "id": "c298d175",
   "metadata": {},
   "outputs": [
    {
     "data": {
      "text/plain": [
       "array([133.14414418, 130.78963254, 133.09056033, 132.30158421,\n",
       "       129.08466916, 128.98655533, 125.97675853, 126.98386364,\n",
       "       129.02357716, 122.60203644, 120.14924809, 127.44976223,\n",
       "       133.11626244, 134.10353408, 137.75048997, 138.98355078,\n",
       "       139.51114178, 140.54833461, 143.36304585, 142.99741997,\n",
       "       141.57152309, 144.1787109 , 143.48084185, 146.41332835,\n",
       "       144.2243331 , 143.71196441, 145.82383098, 146.87540899,\n",
       "       144.91061576, 147.3495838 , 147.55486692, 148.50411554,\n",
       "       147.92611355, 147.22363613, 146.94300955, 147.78152642,\n",
       "       145.82281222, 147.56269763, 145.50315663, 147.54146976,\n",
       "       148.18883679, 146.84754002, 148.20908103, 149.55090315,\n",
       "       148.36493838, 150.61928908, 154.49857151, 154.57531855,\n",
       "       153.11375872, 154.54666077, 154.25028814, 154.23502591,\n",
       "       154.16431318, 154.19427236, 152.88716629, 150.94427319,\n",
       "       149.43087642, 145.67616841, 145.99405155, 149.56943562,\n",
       "       151.95692918, 154.32776332, 155.83832098])"
      ]
     },
     "execution_count": 51,
     "metadata": {},
     "output_type": "execute_result"
    }
   ],
   "source": [
    "test_predictions = model(X_test.to(device)).detach().cpu().numpy().flatten()\n",
    "\n",
    "dummies = np.zeros((X_test.shape[0], lookback+1))\n",
    "dummies[:, 0] = test_predictions\n",
    "dummies = scaler.inverse_transform(dummies)\n",
    "\n",
    "test_predictions = dc(dummies[:, 0])\n",
    "test_predictions"
   ]
  },
  {
   "cell_type": "code",
   "execution_count": 52,
   "id": "e89d5277",
   "metadata": {},
   "outputs": [
    {
     "data": {
      "text/plain": [
       "array([129.78999308, 132.55000302, 131.47000095, 128.13000499,\n",
       "       128.39999408, 125.16999804, 126.55999803, 128.55999792,\n",
       "       121.3899991 , 119.57000059, 127.73999795, 132.71000701,\n",
       "       133.089996  , 136.99999994, 138.07000703, 138.600006  ,\n",
       "       139.74000526, 142.71000699, 142.08000198, 140.60000628,\n",
       "       143.55999767, 142.58999623, 145.80000272, 143.19999731,\n",
       "       142.83000178, 145.17999288, 146.13000477, 143.8999941 ,\n",
       "       146.71000756, 146.74000506, 147.72999606, 147.02999847,\n",
       "       146.32000731, 146.08999613, 147.02999847, 144.83999565,\n",
       "       146.88000458, 144.52000394, 146.88000458, 147.41999793,\n",
       "       145.88999921, 147.47999612, 148.83999622, 147.41999793,\n",
       "       149.97000111, 154.07000772, 153.78999272, 152.11999449,\n",
       "       153.83999654, 153.41999799, 153.41000361, 153.33999667,\n",
       "       153.38000451, 151.94000149, 149.92999326, 148.47000149,\n",
       "       144.57000696, 145.24000465, 149.1000065 , 151.36999468,\n",
       "       153.72999612, 155.17999351, 154.61999544])"
      ]
     },
     "execution_count": 52,
     "metadata": {},
     "output_type": "execute_result"
    }
   ],
   "source": [
    "dummies = np.zeros((X_test.shape[0], lookback+1))\n",
    "dummies[:, 0] = y_test.flatten()\n",
    "dummies = scaler.inverse_transform(dummies)\n",
    "\n",
    "new_y_test = dc(dummies[:, 0])\n",
    "new_y_test"
   ]
  },
  {
   "cell_type": "code",
   "execution_count": 53,
   "id": "d848f6ae",
   "metadata": {},
   "outputs": [
    {
     "data": {
      "image/png": "[encoded data removed]",
      "text/plain": [
       "<Figure size 640x480 with 1 Axes>"
      ]
     },
     "metadata": {},
     "output_type": "display_data"
    }
   ],
   "source": [
    "plt.plot(new_y_test, label='Actual Close')\n",
    "plt.plot(test_predictions, label='Predicted Close')\n",
    "plt.xlabel('Day')\n",
    "plt.ylabel('Close')\n",
    "plt.legend()\n",
    "plt.show()"
   ]
  }
 ],
 "metadata": {
  "kernelspec": {
   "display_name": "Python 3 (ipykernel)",
   "language": "python",
   "name": "python3"
  },
  "language_info": {
   "codemirror_mode": {
    "name": "ipython",
    "version": 3
   },
   "file_extension": ".py",
   "mimetype": "text/x-python",
   "name": "python",
   "nbconvert_exporter": "python",
   "pygments_lexer": "ipython3",
   "version": "3.10.8"
  }
 },
 "nbformat": 4,
 "nbformat_minor": 5
}
